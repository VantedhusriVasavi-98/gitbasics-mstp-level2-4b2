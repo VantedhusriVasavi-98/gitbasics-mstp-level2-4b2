{
 "cells": [
  {
   "cell_type": "markdown",
   "metadata": {},
   "source": [
    "## QUESTION 1"
   ]
  },
  {
   "cell_type": "code",
   "execution_count": 11,
   "metadata": {},
   "outputs": [
    {
     "name": "stdout",
     "output_type": "stream",
     "text": [
      "{1: 1, 2: 4, 3: 9, 4: 16, 5: 25, 6: 36, 7: 49, 8: 64, 9: 81, 10: 100, 11: 121, 12: 144, 13: 169, 14: 196, 15: 225}\n",
      "[1, 4, 9, 16, 25, 36, 49, 64, 81, 100, 121, 144, 169, 196, 225]\n"
     ]
    }
   ],
   "source": [
    "# print list and dictionary of sqare of nums from 1-15\n",
    "a={}\n",
    "b=[]\n",
    "n=15\n",
    "for i in range(1,n+1):\n",
    "    a[i]=i**2\n",
    "    b.append(i**2)\n",
    "print(a)\n",
    "print(b)"
   ]
  },
  {
   "cell_type": "markdown",
   "metadata": {},
   "source": [
    "## QUESTION 2"
   ]
  },
  {
   "cell_type": "code",
   "execution_count": 13,
   "metadata": {},
   "outputs": [
    {
     "name": "stdout",
     "output_type": "stream",
     "text": [
      "10\n",
      "[0, 1, 2, 3, 4, 5, 6, 7, 8, 9]\n"
     ]
    }
   ],
   "source": [
    "## TAKE 10 INTEGER INPUTS FROM USER STORE IN LIST AND PRINT\n",
    "a=int(input())\n",
    "b=[]\n",
    "for i in range(0,a+1):\n",
    "    b.append(i)\n",
    "print(b)   "
   ]
  },
  {
   "cell_type": "markdown",
   "metadata": {},
   "source": [
    "## QUESTION3"
   ]
  },
  {
   "cell_type": "code",
   "execution_count": 1,
   "metadata": {},
   "outputs": [
    {
     "name": "stdout",
     "output_type": "stream",
     "text": [
      "[2, 4] "
     ]
    }
   ],
   "source": [
    "#Print list of even numbers\n",
    "b=[1,5,7,3,2,4,5,9]\n",
    "c=[]\n",
    "for i in range(len(b)):\n",
    "    if (b[i]%2==0):\n",
    "        c.append(b[i])\n",
    "print(c,end=\" \")       "
   ]
  },
  {
   "cell_type": "markdown",
   "metadata": {},
   "source": [
    "## QUESTION 8"
   ]
  },
  {
   "cell_type": "code",
   "execution_count": 33,
   "metadata": {},
   "outputs": [
    {
     "name": "stdout",
     "output_type": "stream",
     "text": [
      "{'M': 1, 'I': 4, 'S': 4, 'P': 2}\n"
     ]
    }
   ],
   "source": [
    "# count number of occurance word \"MISSISSIPPI\" store the count in dictionary.\n",
    "a=\"MISSISSIPPI\"\n",
    "n={}\n",
    "for i in a:\n",
    "    n[i]=a.count(i)\n",
    "print(n)    "
   ]
  },
  {
   "cell_type": "markdown",
   "metadata": {},
   "source": [
    "## QUESTION 9"
   ]
  },
  {
   "cell_type": "code",
   "execution_count": 36,
   "metadata": {
    "scrolled": true
   },
   "outputs": [
    {
     "name": "stdout",
     "output_type": "stream",
     "text": [
      "['I', 'M', 'P', 'S']\n"
     ]
    }
   ],
   "source": [
    "## Sorted of letter \"MISSIPPI\"\n",
    "a=\"MISSISSIPPI\"\n",
    "a=list(set(a))\n",
    "n=sorted(a)\n",
    "print(n)"
   ]
  },
  {
   "cell_type": "markdown",
   "metadata": {},
   "source": [
    "## QUESTION 4"
   ]
  },
  {
   "cell_type": "code",
   "execution_count": 24,
   "metadata": {},
   "outputs": [
    {
     "name": "stdout",
     "output_type": "stream",
     "text": [
      "1\n",
      "2\n",
      "-3\n",
      "-4\n",
      "50\n",
      "0\n",
      "0\n",
      "8\n",
      "6\n",
      "4\n",
      "{'p': 6, 'n': 2, 'e': 6, 'o': 2, 'z': 2}\n"
     ]
    }
   ],
   "source": [
    "# Take10 integers inputs from user and print the folloeing\n",
    "# number of positive integers\n",
    "# number of negative integers\n",
    "# number of odd number\n",
    "# number of evev numbers\n",
    "# number of 0s.using dictionary\n",
    "l=[]\n",
    "for i in range(1,11):\n",
    "    n=int(input())\n",
    "    l.append(n)\n",
    "d={'p':0,'n':0,'e':0,'o':0,'z':0}\n",
    "for j in l:\n",
    "    if j>0:\n",
    "        d['p']+=1\n",
    "        if j%2==0:\n",
    "            d['e']+=1\n",
    "        else:\n",
    "            d['o']+=1\n",
    "    elif j<0:\n",
    "        d['n']+=1\n",
    "        if j%2==0:\n",
    "            d['e']+=1\n",
    "        else:\n",
    "            d['o']+=1\n",
    "    elif j==0:\n",
    "        d['z']+=1\n",
    "print(d)"
   ]
  },
  {
   "cell_type": "markdown",
   "metadata": {},
   "source": [
    "## QUESTION 5"
   ]
  },
  {
   "cell_type": "code",
   "execution_count": 3,
   "metadata": {
    "scrolled": true
   },
   "outputs": [
    {
     "name": "stdout",
     "output_type": "stream",
     "text": [
      "10\n",
      "vasavi\n",
      "90\n",
      "siri\n",
      "98\n",
      "sarala\n",
      "87\n",
      "priya\n",
      "76\n",
      "kam\n",
      "76\n",
      "teja\n",
      "65\n",
      "raji\n",
      "45\n",
      "shabhu\n",
      "88\n",
      "bindhu\n",
      "44\n",
      "anjum\n",
      "55\n",
      "{'vasavi': 90, 'siri': 98, 'sarala': 87, 'priya': 76, 'kam': 76, 'teja': 65, 'raji': 45, 'shabhu': 88, 'bindhu': 44, 'anjum': 55} "
     ]
    }
   ],
   "source": [
    "#Ask user to give name and marks 10 different students store them in dictionary\n",
    "a={}\n",
    "n=int(input())\n",
    "for i in range(1,n+1):\n",
    "    b=input()\n",
    "    x=int(input())\n",
    "    a[b]=x\n",
    "print(a,end=\" \")"
   ]
  },
  {
   "cell_type": "markdown",
   "metadata": {},
   "source": [
    "## QUESTION 6"
   ]
  },
  {
   "cell_type": "code",
   "execution_count": 8,
   "metadata": {
    "scrolled": true
   },
   "outputs": [
    {
     "name": "stdout",
     "output_type": "stream",
     "text": [
      "{'vasavi': 90, 'siri': 98, 'sarala': 87, 'priya': 76, 'kam': 76, 'teja': 65, 'raji': 45, 'shabhu': 88, 'bindhu': 44, 'anjum': 55}\n",
      "['anjum', 'bindhu', 'kam', 'priya', 'raji', 'sarala', 'shabhu', 'siri', 'teja', 'vasavi']\n",
      "anjum : 55\n",
      "bindhu : 44\n",
      "kam : 76\n",
      "priya : 76\n",
      "raji : 45\n",
      "sarala : 87\n",
      "shabhu : 88\n",
      "siri : 98\n",
      "teja : 65\n",
      "vasavi : 90\n"
     ]
    }
   ],
   "source": [
    "# sorted dictionary\n",
    "print(a)\n",
    "y=sorted(a.keys()) \n",
    "print(y)\n",
    "for i in y:\n",
    "    print(i,\":\",a[i])\n"
   ]
  },
  {
   "cell_type": "markdown",
   "metadata": {},
   "source": [
    "## QUESTION 7"
   ]
  },
  {
   "cell_type": "code",
   "execution_count": 11,
   "metadata": {},
   "outputs": [
    {
     "name": "stdout",
     "output_type": "stream",
     "text": [
      "['right', 'top', 'push']\n",
      "top\n",
      "down\n"
     ]
    }
   ],
   "source": [
    "a={\"right\":\"left\",\"top\":\"down\",\"push\":\"pop\"}\n",
    "print(list(a.keys()))\n",
    "n=input()\n",
    "print(a.get(n))\n",
    "#print(g[n])"
   ]
  },
  {
   "cell_type": "code",
   "execution_count": null,
   "metadata": {},
   "outputs": [],
   "source": []
  }
 ],
 "metadata": {
  "kernelspec": {
   "display_name": "Python 3",
   "language": "python",
   "name": "python3"
  },
  "language_info": {
   "codemirror_mode": {
    "name": "ipython",
    "version": 3
   },
   "file_extension": ".py",
   "mimetype": "text/x-python",
   "name": "python",
   "nbconvert_exporter": "python",
   "pygments_lexer": "ipython3",
   "version": "3.7.3"
  }
 },
 "nbformat": 4,
 "nbformat_minor": 2
}
