{
 "cells": [
  {
   "cell_type": "code",
   "execution_count": 1,
   "metadata": {},
   "outputs": [],
   "source": [
    "# File modes\n",
    "# Tell\n",
    "# seek\n",
    "#w+=write and read"
   ]
  },
  {
   "cell_type": "code",
   "execution_count": 13,
   "metadata": {},
   "outputs": [],
   "source": [
    "# create a file=file_operation.txt\n",
    "filepath=\"file_operation.txt\"\n",
    "def fileopen(filepath):\n",
    "    with open(filepath,\"w\") as f:\n",
    "        f.write(filepath)\n",
    "        f.write(\"\\npython\")\n",
    "        f.write(\"\\nhello\")\n",
    "fileopen(filepath)    "
   ]
  },
  {
   "cell_type": "code",
   "execution_count": 22,
   "metadata": {
    "scrolled": true
   },
   "outputs": [
    {
     "name": "stdout",
     "output_type": "stream",
     "text": [
      "file_operation.\n",
      "15\n",
      "file_operation.\n",
      "2\n"
     ]
    }
   ],
   "source": [
    "f=open(\"file_operation.txt\",\"r\")\n",
    "f1=f.read(15)\n",
    "print(f1)\n",
    "print(f.tell())\n",
    "print(f1)\n",
    "print(f.seek(2))\n",
    "f.close()"
   ]
  },
  {
   "cell_type": "code",
   "execution_count": 25,
   "metadata": {},
   "outputs": [
    {
     "name": "stdout",
     "output_type": "stream",
     "text": [
      "file_operation.txt\n",
      "python\n",
      "hello\n",
      "e_operation.txt\n",
      "python\n",
      "hello\n"
     ]
    }
   ],
   "source": [
    "x=open(\"file_operation.txt\",\"r\")\n",
    "print(x.read())\n",
    "x.seek(3)\n",
    "x.tell()\n",
    "print(x.read())"
   ]
  },
  {
   "cell_type": "code",
   "execution_count": 27,
   "metadata": {},
   "outputs": [
    {
     "name": "stdout",
     "output_type": "stream",
     "text": [
      "orld is good\n"
     ]
    }
   ],
   "source": [
    "filepath=\"file_operation.txt\"\n",
    "def writeread(filepath):\n",
    "    with open(filepath,\"w+\") as f:\n",
    "        f.write(\"world is good\")\n",
    "        f.seek(1)\n",
    "        f1=f.read()\n",
    "        print(f1)\n",
    "writeread(filepath)"
   ]
  },
  {
   "cell_type": "code",
   "execution_count": 2,
   "metadata": {},
   "outputs": [
    {
     "ename": "NameError",
     "evalue": "name 'n' is not defined",
     "output_type": "error",
     "traceback": [
      "\u001b[1;31m---------------------------------------------------------------------------\u001b[0m",
      "\u001b[1;31mNameError\u001b[0m                                 Traceback (most recent call last)",
      "\u001b[1;32m<ipython-input-2-5a354ac45bce>\u001b[0m in \u001b[0;36m<module>\u001b[1;34m\u001b[0m\n\u001b[0;32m     12\u001b[0m     \u001b[1;32melse\u001b[0m\u001b[1;33m:\u001b[0m\u001b[1;33m\u001b[0m\u001b[1;33m\u001b[0m\u001b[0m\n\u001b[0;32m     13\u001b[0m         \u001b[0mprint\u001b[0m\u001b[1;33m(\u001b[0m\u001b[1;34m\"not palindrome\"\u001b[0m\u001b[1;33m)\u001b[0m\u001b[1;33m\u001b[0m\u001b[1;33m\u001b[0m\u001b[0m\n\u001b[1;32m---> 14\u001b[1;33m \u001b[0mstring_polindrome\u001b[0m\u001b[1;33m(\u001b[0m\u001b[0mn\u001b[0m\u001b[1;33m)\u001b[0m\u001b[1;33m\u001b[0m\u001b[1;33m\u001b[0m\u001b[0m\n\u001b[0m",
      "\u001b[1;31mNameError\u001b[0m: name 'n' is not defined"
     ]
    }
   ],
   "source": [
    "\n",
    "def string_polindrome(n):\n",
    "    n=int(input())\n",
    "    temp=n\n",
    "    rev=0\n",
    "    for i in range(n):\n",
    "        if(n!=0):\n",
    "            a=num%10\n",
    "            rev=rev*10+a\n",
    "            n=n//10\n",
    "    if(num==rev):\n",
    "            print(\"palindrome\")\n",
    "    else:\n",
    "        print(\"not palindrome\")\n",
    "string_polindrome(n)"
   ]
  },
  {
   "cell_type": "code",
   "execution_count": null,
   "metadata": {},
   "outputs": [],
   "source": []
  }
 ],
 "metadata": {
  "kernelspec": {
   "display_name": "Python 3",
   "language": "python",
   "name": "python3"
  },
  "language_info": {
   "codemirror_mode": {
    "name": "ipython",
    "version": 3
   },
   "file_extension": ".py",
   "mimetype": "text/x-python",
   "name": "python",
   "nbconvert_exporter": "python",
   "pygments_lexer": "ipython3",
   "version": "3.7.3"
  }
 },
 "nbformat": 4,
 "nbformat_minor": 2
}
