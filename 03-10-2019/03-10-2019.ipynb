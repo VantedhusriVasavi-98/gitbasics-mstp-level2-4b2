{
 "cells": [
  {
   "cell_type": "markdown",
   "metadata": {},
   "source": [
    "## File handline in python"
   ]
  },
  {
   "cell_type": "markdown",
   "metadata": {},
   "source": [
    "* read......>r\n",
    "* write......>w\n",
    "* append.....>a\n",
    "* read&write....>r+\n",
    "* write&read....>w+\n",
    "* append&read...>a+\n",
    "* x....>exclusive write"
   ]
  },
  {
   "cell_type": "code",
   "execution_count": 1,
   "metadata": {},
   "outputs": [],
   "source": [
    "# file opening\n",
    "#file=open(\"sample.txt\",\"mode\")"
   ]
  },
  {
   "cell_type": "code",
   "execution_count": 5,
   "metadata": {},
   "outputs": [],
   "source": [
    "# create a file and add content\n",
    "f=open(\"data.txt\",\"w\")\n",
    "f.write(\"welcome python\")\n",
    "f.write(\"\\npython is a language\\n\")\n",
    "f.close()"
   ]
  },
  {
   "cell_type": "code",
   "execution_count": 6,
   "metadata": {
    "scrolled": true
   },
   "outputs": [
    {
     "name": "stdout",
     "output_type": "stream",
     "text": [
      "welcome python\n",
      "python is a language\n",
      "\n"
     ]
    }
   ],
   "source": [
    "#print content of file\n",
    "filedata=open(\"data.txt\",\"r\")\n",
    "f1=filedata.read()\n",
    "print(f1)\n",
    "filedata.close()"
   ]
  },
  {
   "cell_type": "code",
   "execution_count": 9,
   "metadata": {},
   "outputs": [
    {
     "name": "stdout",
     "output_type": "stream",
     "text": [
      "welcome python\n",
      "python is a language\n",
      "\n"
     ]
    }
   ],
   "source": [
    "#function to print data of file \n",
    "def read_content(filepath):\n",
    "    filepath=open(\"data.txt\",\"r\")\n",
    "    data=filepath.read()\n",
    "    print(data)\n",
    "filepath=\"data.txt\"\n",
    "read_content(filedata)\n",
    "    "
   ]
  },
  {
   "cell_type": "code",
   "execution_count": 12,
   "metadata": {},
   "outputs": [],
   "source": [
    "#function to write data to a file\n",
    "# data=\"mstp apssdc\"\n",
    "def write_content(file):\n",
    "    file=open(\"data.txt\",\"w\")\n",
    "    file.write(\"mstp apssdc\") \n",
    "    file.close()\n",
    "file=\"data.txt\"\n",
    "write_content(file)\n"
   ]
  },
  {
   "cell_type": "code",
   "execution_count": 16,
   "metadata": {},
   "outputs": [],
   "source": [
    "#function to add a new content to a file\n",
    "def append_content(file):\n",
    "    file=open(\"data.txt\",\"a\")\n",
    "    file.write(\"\\nkvsw womens\\n\")    \n",
    "    file.close()\n",
    "file=\"data.txt\"\n",
    "append_content(file)"
   ]
  },
  {
   "cell_type": "code",
   "execution_count": 17,
   "metadata": {},
   "outputs": [
    {
     "name": "stdout",
     "output_type": "stream",
     "text": [
      "mstp apssdckvsw womens\n",
      "kvsw womens\n",
      "\n"
     ]
    }
   ],
   "source": [
    "def read_file(filepath):\n",
    "    filepath=open(\"data.txt\",\"r\")\n",
    "    datafile=filepath.read()\n",
    "    print(datafile)\n",
    "filepath=\"data.txt\"\n",
    "read_file(filepath)"
   ]
  },
  {
   "cell_type": "code",
   "execution_count": 18,
   "metadata": {},
   "outputs": [
    {
     "name": "stdout",
     "output_type": "stream",
     "text": [
      "mstp apssdckvsw womens\n",
      "\n"
     ]
    }
   ],
   "source": [
    "f=open(\"data.txt\",\"r\")\n",
    "x=f.readline()\n",
    "print(x)"
   ]
  },
  {
   "cell_type": "code",
   "execution_count": 21,
   "metadata": {},
   "outputs": [
    {
     "name": "stdout",
     "output_type": "stream",
     "text": [
      "['mstp apssdckvsw womens\\n', 'kvsw womens\\n']\n"
     ]
    }
   ],
   "source": [
    "f=open(\"data.txt\",\"r\")\n",
    "z=f.readlines()\n",
    "print(z)"
   ]
  },
  {
   "cell_type": "code",
   "execution_count": 22,
   "metadata": {},
   "outputs": [
    {
     "name": "stdout",
     "output_type": "stream",
     "text": [
      "mstp apssdckvsw womens\n",
      " kvsw womens\n",
      " "
     ]
    }
   ],
   "source": [
    "## Acessing all content line by line\n",
    "f=open(\"data.txt\",\"r\")\n",
    "z=f.readlines()\n",
    "for i in z:\n",
    "    print(i,end=\" \")"
   ]
  },
  {
   "cell_type": "code",
   "execution_count": 26,
   "metadata": {},
   "outputs": [
    {
     "name": "stdout",
     "output_type": "stream",
     "text": [
      "['mstp apssdckvsw womens\\n', 'kvsw womens\\n']\n",
      "mstp apssdckvsw womens\n",
      " kvsw womens\n",
      " "
     ]
    }
   ],
   "source": [
    "def get_data(f):\n",
    "    with open(\"data.txt\",\"r\") as f:\n",
    "        z=f.readlines()\n",
    "        print(z)\n",
    "        for i in z:\n",
    "            print(i,end=\" \")\n",
    "f=\"data.txt\"\n",
    "get_data(f)"
   ]
  },
  {
   "cell_type": "code",
   "execution_count": 30,
   "metadata": {},
   "outputs": [
    {
     "name": "stdout",
     "output_type": "stream",
     "text": [
      "2\n"
     ]
    }
   ],
   "source": [
    "#lines count\n",
    "#character count\n",
    "#words count\n",
    "#file length\n",
    "def get_count(f):\n",
    "    count=0\n",
    "    with open(\"data.txt\",\"r\") as f:\n",
    "        z=f.readlines()\n",
    "        for i in z:\n",
    "            count=count+1\n",
    "        print(count)\n",
    "f=\"data.txt\"\n",
    "get_count(f)\n",
    "                            "
   ]
  },
  {
   "cell_type": "code",
   "execution_count": 35,
   "metadata": {},
   "outputs": [
    {
     "name": "stdout",
     "output_type": "stream",
     "text": [
      "35\n"
     ]
    }
   ],
   "source": [
    "def char_count(f):\n",
    "    char=0\n",
    "    with open(\"data.txt\",\"r\") as f:\n",
    "        z=f.read()\n",
    "        for i in z:\n",
    "            char=char+1\n",
    "        print(char)\n",
    "f=\"data.txt\"\n",
    "char_count(f)"
   ]
  },
  {
   "cell_type": "code",
   "execution_count": 49,
   "metadata": {},
   "outputs": [
    {
     "name": "stdout",
     "output_type": "stream",
     "text": [
      "mstp apssdckvsw womens\n",
      "kvsw womens\n",
      "\n",
      "5\n"
     ]
    }
   ],
   "source": [
    "def word_count(f):\n",
    "    word=0\n",
    "    with open(\"data.txt\",\"r\") as f:\n",
    "        a=f.read()\n",
    "        b=a.split()\n",
    "        print(len(b))\n",
    "a=\"data.txt\"\n",
    "word_count(f)"
   ]
  },
  {
   "cell_type": "code",
   "execution_count": 45,
   "metadata": {},
   "outputs": [
    {
     "name": "stdout",
     "output_type": "stream",
     "text": [
      "2\n"
     ]
    }
   ],
   "source": [
    "def file_length(f):\n",
    "    length=0\n",
    "    with open(\"data.txt\",\"r\") as f:\n",
    "        a=f.readlines()\n",
    "        for i in a:\n",
    "            length=length+1\n",
    "        print(length)\n",
    "f=\"data.txt\"\n",
    "file_length(f)"
   ]
  },
  {
   "cell_type": "code",
   "execution_count": null,
   "metadata": {},
   "outputs": [],
   "source": []
  }
 ],
 "metadata": {
  "kernelspec": {
   "display_name": "Python 3",
   "language": "python",
   "name": "python3"
  },
  "language_info": {
   "codemirror_mode": {
    "name": "ipython",
    "version": 3
   },
   "file_extension": ".py",
   "mimetype": "text/x-python",
   "name": "python",
   "nbconvert_exporter": "python",
   "pygments_lexer": "ipython3",
   "version": "3.7.3"
  }
 },
 "nbformat": 4,
 "nbformat_minor": 2
}
