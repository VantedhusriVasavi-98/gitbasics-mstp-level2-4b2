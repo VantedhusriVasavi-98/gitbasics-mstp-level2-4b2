{
 "cells": [
  {
   "cell_type": "code",
   "execution_count": 1,
   "metadata": {},
   "outputs": [
    {
     "name": "stdout",
     "output_type": "stream",
     "text": [
      "$estart\n"
     ]
    }
   ],
   "source": [
    "# Write a python program to get a string from a givenstring where all occurance of first char have beenchanged to'$',extension'\n",
    "r=\"restart\"\n",
    "p=r.replace('r','$',1)\n",
    "print(p)"
   ]
  },
  {
   "cell_type": "code",
   "execution_count": 2,
   "metadata": {},
   "outputs": [
    {
     "name": "stdout",
     "output_type": "stream",
     "text": [
      "28\n",
      "problem solving using python\n",
      "nohtyp gnisu gnivlos melborp\n",
      "['problem', 'solving', 'using', 'python']\n",
      "problemsolvingusingpython\n",
      "2\n"
     ]
    }
   ],
   "source": [
    "# Take a string \"problem solving using python\"\n",
    "#Find length\n",
    "# convert lowercase\n",
    "#print string in reverse order\n",
    "#split string\n",
    "#print without space\n",
    "# find how many times 's' repeated in string\n",
    "a=\"problem solving using python\"\n",
    "print(len(a))\n",
    "print(a.lower())\n",
    "print(a[-1::-1])\n",
    "print(a.split())\n",
    "print(\"problem\"+\"solving\"+\"using\"+\"python\")\n",
    "print(a.count(\"s\"))"
   ]
  },
  {
   "cell_type": "code",
   "execution_count": 3,
   "metadata": {},
   "outputs": [
    {
     "name": "stdout",
     "output_type": "stream",
     "text": [
      "2\n"
     ]
    }
   ],
   "source": [
    "# Find how many times \"python\" repeated im string of \"python programming by pythonplatforms\"\n",
    "x=\"python programming by pythonplatforms\"\n",
    "print(x.count(\"python\"))"
   ]
  },
  {
   "cell_type": "code",
   "execution_count": null,
   "metadata": {},
   "outputs": [],
   "source": [
    "\n"
   ]
  }
 ],
 "metadata": {
  "kernelspec": {
   "display_name": "Python 3",
   "language": "python",
   "name": "python3"
  },
  "language_info": {
   "codemirror_mode": {
    "name": "ipython",
    "version": 3
   },
   "file_extension": ".py",
   "mimetype": "text/x-python",
   "name": "python",
   "nbconvert_exporter": "python",
   "pygments_lexer": "ipython3",
   "version": "3.7.3"
  }
 },
 "nbformat": 4,
 "nbformat_minor": 2
}
