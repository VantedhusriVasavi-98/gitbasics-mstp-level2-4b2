{
 "cells": [
  {
   "cell_type": "markdown",
   "metadata": {},
   "source": [
    "## Handling csv files"
   ]
  },
  {
   "cell_type": "code",
   "execution_count": 3,
   "metadata": {
    "scrolled": true
   },
   "outputs": [],
   "source": [
    "file=\"mstp.txt\"\n",
    "def name(file):\n",
    "    with open (file,\"w\") as f:\n",
    "        f.write(\"kvsw\"+\",\"+\"mstp\"+\",\"+\"master\")\n",
    "name(file)"
   ]
  },
  {
   "cell_type": "code",
   "execution_count": 5,
   "metadata": {
    "scrolled": true
   },
   "outputs": [],
   "source": [
    "a=\"\\n.kvsm\"\n",
    "with open (file,'a') as f:\n",
    "    f.write(a)"
   ]
  },
  {
   "cell_type": "code",
   "execution_count": 9,
   "metadata": {},
   "outputs": [
    {
     "name": "stdout",
     "output_type": "stream",
     "text": [
      "['kvsw,mstp,master\\n', '.kvsm']\n"
     ]
    }
   ],
   "source": [
    "with open (file,'r') as f:\n",
    "    s=f.readlines()\n",
    "    print(s)"
   ]
  },
  {
   "cell_type": "code",
   "execution_count": 38,
   "metadata": {},
   "outputs": [],
   "source": [
    "file=\"contact.txt\"\n",
    "with open (file,\"a\") as f:\n",
    "    f.write(\"name\"+\",\"+\"9849529682\"+\",\"+\"vasavi123@gmail.com\")\n",
    "    f.write(\"\\nname1\"+\",\"+\"7780282163\"+\",\"+\"sreevasavi123@gmail.com\")\n",
    "    "
   ]
  },
  {
   "cell_type": "markdown",
   "metadata": {},
   "source": [
    "## csv to list"
   ]
  },
  {
   "cell_type": "code",
   "execution_count": 42,
   "metadata": {
    "scrolled": true
   },
   "outputs": [
    {
     "name": "stdout",
     "output_type": "stream",
     "text": [
      "name,9849529682,vasavi123@gmail.comname,9849529682,vasavi123@gmail.comname,9849529682,vasavi123@gmail.com\n",
      "name1,7780282163,sreevasavi123@gmail.comname,9849529682,vasavi123@gmail.com\n",
      "\n",
      "name1,7780282163,sreevasavi123@gmail.comname,9849529682,vasavi123@gmail.com\n",
      "name1,7780282163,sreevasavi123@gmail.comname,9849529682,vasavi123@gmail.com\n",
      "name1,7780282163,sreevasavi123@gmail.comname,9849529682,vasavi123@gmail.com\n",
      "name1,7780282163,sreevasavi123@gmail.com\n"
     ]
    }
   ],
   "source": [
    "file=\"contact.txt\"\n",
    "def csvtolist(file):\n",
    "    l=[]\n",
    "    with open(file,'r') as f:\n",
    "        for line in f:\n",
    "            l.append(line.split(\",\"))\n",
    "    return l\n",
    "csvtolist(file)\n",
    "def listtocsv(file):\n",
    "    d=csvtolist(file)\n",
    "    s=\"\"\n",
    "    for i in d:\n",
    "        s+=\",\".join(i)\n",
    "    print(s)        \n",
    "listtocsv(file)\n",
    "    "
   ]
  },
  {
   "cell_type": "code",
   "execution_count": 54,
   "metadata": {},
   "outputs": [
    {
     "name": "stdout",
     "output_type": "stream",
     "text": [
      "success\n",
      "phno suuccess\n",
      "email success\n",
      "contact added succesfully\n"
     ]
    }
   ],
   "source": [
    "import re\n",
    "def phonevalidation(no):\n",
    "    pattern='^[0][6-9][0-9]{9}$|^[+][9][1][6789][0-9]{9}|^[6-9][0-9]{9}$'\n",
    "    if re.match(pattern,no):\n",
    "            return 1\n",
    "    else:\n",
    "            return 0\n",
    "def email(e):\n",
    "    pattern='^([a-z]|[A-Z]|[0-9])([a-z]|[A-Z]|[0-9]|[_]){6,14}([0-9]|[a-z])@[a-z]{2,10}[.][a-z]{2,14}$'\n",
    "    if re.match(pattern,str(e)):\n",
    "        return 1\n",
    "    else:\n",
    "        return 0\n",
    "def searchcontact(name,file):\n",
    "    s=csvtolist(file)\n",
    "    for i in s:\n",
    "        if i[0]==name:\n",
    "            return 1\n",
    "        #else:\n",
    "    return 0\n",
    "searchcontact(\"name\",\"contact.txt\")\n",
    "def addcontact(name,no,email1,file):\n",
    "    if searchcontact(name,file)==0:\n",
    "        print(\"success\")\n",
    "        if phonevalidation(no)==1:\n",
    "            print(\"phno suuccess\")\n",
    "            if email(email1)==1:\n",
    "                print(\"email success\")\n",
    "                with open(file,'a') as f:\n",
    "                    f.write(\"\\n\"+name+\",\"+no+\",\"+email1)\n",
    "                    print(\"contact added succesfully\")\n",
    "    else:\n",
    "        print(\"contact already exist\")\n",
    "addcontact(\"cse\",\"9876543211\",\"kvswcsae@gmail.com\",\"contact.txt\")"
   ]
  },
  {
   "cell_type": "code",
   "execution_count": null,
   "metadata": {},
   "outputs": [],
   "source": [
    "def removecontact(file) "
   ]
  }
 ],
 "metadata": {
  "kernelspec": {
   "display_name": "Python 3",
   "language": "python",
   "name": "python3"
  },
  "language_info": {
   "codemirror_mode": {
    "name": "ipython",
    "version": 3
   },
   "file_extension": ".py",
   "mimetype": "text/x-python",
   "name": "python",
   "nbconvert_exporter": "python",
   "pygments_lexer": "ipython3",
   "version": "3.7.3"
  }
 },
 "nbformat": 4,
 "nbformat_minor": 2
}
