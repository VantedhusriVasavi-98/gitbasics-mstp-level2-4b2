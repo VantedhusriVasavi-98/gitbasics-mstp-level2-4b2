{
 "cells": [
  {
   "cell_type": "markdown",
   "metadata": {},
   "source": [
    "## Regular expressions"
   ]
  },
  {
   "cell_type": "code",
   "execution_count": null,
   "metadata": {},
   "outputs": [],
   "source": [
    "1.abc.....>that exact character sequence,but anywhere in the string\n",
    "2.^abc....>abc at the beginning of string\n",
    "3.abc$......>abc at the end of string\n",
    "4.a|b.....>either of a and b\n",
    "5.^abc|abc$.....>the string at begging or end of string\n",
    "6.ab{2,4}c......>an followed by two,three or four b's followed by a c\n",
    "7.ab{2,}c......>an a followed by least two b's followed by a c\n",
    "8.ab*c.......>an followed by any number(zero or more)of b's followed by ac\n",
    "9.a.c......>an a followed by single character(notne)"
   ]
  },
  {
   "cell_type": "markdown",
   "metadata": {},
   "source": [
    "## Phone number validation"
   ]
  },
  {
   "cell_type": "code",
   "execution_count": 10,
   "metadata": {
    "scrolled": true
   },
   "outputs": [
    {
     "data": {
      "text/plain": [
       "1"
      ]
     },
     "execution_count": 10,
     "metadata": {},
     "output_type": "execute_result"
    }
   ],
   "source": [
    "#^[0][6-9][0-9]{9}$\n",
    "#^+91[6789][0-9]{9}\n",
    "#^[6-9][0-9]{9}$\n",
    "import re\n",
    "def phoneno(no):\n",
    "    pattern='^[0][6-9][0-9]{9}$|^[+][9][1][6789][0-9]{9}|^[6-9][0-9]{9}$'\n",
    "    if re.match(pattern,no):\n",
    "            return 1\n",
    "    else:\n",
    "            return 0\n",
    "phoneno(\"9849529682\")   "
   ]
  },
  {
   "cell_type": "markdown",
   "metadata": {},
   "source": [
    " ## Email validation"
   ]
  },
  {
   "cell_type": "code",
   "execution_count": 13,
   "metadata": {},
   "outputs": [
    {
     "data": {
      "text/plain": [
       "1"
      ]
     },
     "execution_count": 13,
     "metadata": {},
     "output_type": "execute_result"
    }
   ],
   "source": [
    "def email(e):\n",
    "    pattern='^([a-z]|[A-Z]|[0-9])([a-z]|[A-Z]|[0-9]|[_]){6,14}([0-9]|[a-z])@[a-z]{2,10}[.][a-z]{2,14}$'\n",
    "    if re.match(pattern,str(e)):\n",
    "        return 1\n",
    "    else:\n",
    "        return 0\n",
    "email(\"srivasavi464@gmail.com\")\n",
    "email(\"Asfdwtf121@gmail.com\")\n",
    "    "
   ]
  },
  {
   "cell_type": "code",
   "execution_count": null,
   "metadata": {},
   "outputs": [],
   "source": []
  }
 ],
 "metadata": {
  "kernelspec": {
   "display_name": "Python 3",
   "language": "python",
   "name": "python3"
  },
  "language_info": {
   "codemirror_mode": {
    "name": "ipython",
    "version": 3
   },
   "file_extension": ".py",
   "mimetype": "text/x-python",
   "name": "python",
   "nbconvert_exporter": "python",
   "pygments_lexer": "ipython3",
   "version": "3.7.3"
  }
 },
 "nbformat": 4,
 "nbformat_minor": 2
}
